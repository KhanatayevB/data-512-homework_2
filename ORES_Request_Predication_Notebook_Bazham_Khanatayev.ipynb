{
 "cells": [
  {
   "cell_type": "markdown",
   "metadata": {},
   "source": [
    "Bazham Khanatayev \\\n",
    "Data 512 HW_2 \\\n",
    "10.15.2023 \\\n",
    "The purpose of this notebook is to take the prepared article data and grab the quality scores from the ORES API."
   ]
  },
  {
   "cell_type": "code",
   "execution_count": null,
   "metadata": {},
   "outputs": [],
   "source": [
    "import pandas as pd"
   ]
  },
  {
   "cell_type": "code",
   "execution_count": null,
   "metadata": {},
   "outputs": [],
   "source": [
    "# Read the CSV file into a DataFrame\n",
    "df_input = pd.read_csv('article_data_clean.csv')"
   ]
  },
  {
   "cell_type": "code",
   "execution_count": 1,
   "metadata": {},
   "outputs": [
    {
     "data": {
      "text/html": [
       "<div>\n",
       "<style scoped>\n",
       "    .dataframe tbody tr th:only-of-type {\n",
       "        vertical-align: middle;\n",
       "    }\n",
       "\n",
       "    .dataframe tbody tr th {\n",
       "        vertical-align: top;\n",
       "    }\n",
       "\n",
       "    .dataframe thead th {\n",
       "        text-align: right;\n",
       "    }\n",
       "</style>\n",
       "<table border=\"1\" class=\"dataframe\">\n",
       "  <thead>\n",
       "    <tr style=\"text-align: right;\">\n",
       "      <th></th>\n",
       "      <th>Article Title</th>\n",
       "      <th>URL</th>\n",
       "      <th>Revision ID</th>\n",
       "    </tr>\n",
       "  </thead>\n",
       "  <tbody>\n",
       "    <tr>\n",
       "      <th>0</th>\n",
       "      <td>Abbeville, Alabama</td>\n",
       "      <td>https://en.wikipedia.org/wiki/Abbeville,_Alabama</td>\n",
       "      <td>1171163550</td>\n",
       "    </tr>\n",
       "    <tr>\n",
       "      <th>1</th>\n",
       "      <td>Adamsville, Alabama</td>\n",
       "      <td>https://en.wikipedia.org/wiki/Adamsville,_Alabama</td>\n",
       "      <td>1177621427</td>\n",
       "    </tr>\n",
       "    <tr>\n",
       "      <th>2</th>\n",
       "      <td>Addison, Alabama</td>\n",
       "      <td>https://en.wikipedia.org/wiki/Addison,_Alabama</td>\n",
       "      <td>1168359898</td>\n",
       "    </tr>\n",
       "    <tr>\n",
       "      <th>3</th>\n",
       "      <td>Akron, Alabama</td>\n",
       "      <td>https://en.wikipedia.org/wiki/Akron,_Alabama</td>\n",
       "      <td>1165909508</td>\n",
       "    </tr>\n",
       "    <tr>\n",
       "      <th>4</th>\n",
       "      <td>Alabaster, Alabama</td>\n",
       "      <td>https://en.wikipedia.org/wiki/Alabaster,_Alabama</td>\n",
       "      <td>1179139816</td>\n",
       "    </tr>\n",
       "  </tbody>\n",
       "</table>\n",
       "</div>"
      ],
      "text/plain": [
       "         Article Title                                                URL  \\\n",
       "0   Abbeville, Alabama   https://en.wikipedia.org/wiki/Abbeville,_Alabama   \n",
       "1  Adamsville, Alabama  https://en.wikipedia.org/wiki/Adamsville,_Alabama   \n",
       "2     Addison, Alabama     https://en.wikipedia.org/wiki/Addison,_Alabama   \n",
       "3       Akron, Alabama       https://en.wikipedia.org/wiki/Akron,_Alabama   \n",
       "4   Alabaster, Alabama   https://en.wikipedia.org/wiki/Alabaster,_Alabama   \n",
       "\n",
       "   Revision ID  \n",
       "0   1171163550  \n",
       "1   1177621427  \n",
       "2   1168359898  \n",
       "3   1165909508  \n",
       "4   1179139816  "
      ]
     },
     "execution_count": 1,
     "metadata": {},
     "output_type": "execute_result"
    }
   ],
   "source": [
    "# Display the first few rows of the DataFrame\n",
    "df_input.head()"
   ]
  },
  {
   "cell_type": "code",
   "execution_count": null,
   "metadata": {},
   "outputs": [],
   "source": [
    "# Number of NaN values in the 'Revision ID' column\n",
    "num_nan_revision_id = df_input['Revision ID'].isna().sum()"
   ]
  },
  {
   "cell_type": "code",
   "execution_count": null,
   "metadata": {},
   "outputs": [],
   "source": [
    "# Number of NaN values in the 'Article Title' column\n",
    "num_nan_article_title = df_input['Article Title'].isna().sum()"
   ]
  },
  {
   "cell_type": "code",
   "execution_count": 2,
   "metadata": {},
   "outputs": [
    {
     "name": "stdout",
     "output_type": "stream",
     "text": [
      "Number of NaN values in 'Revision ID' column: 0\n",
      "Number of NaN values in 'Article Title' column: 0\n"
     ]
    }
   ],
   "source": [
    "print(f\"Number of NaN values in 'Revision ID' column: {num_nan_revision_id}\")\n",
    "print(f\"Number of NaN values in 'Article Title' column: {num_nan_article_title}\")"
   ]
  },
  {
   "cell_type": "markdown",
   "metadata": {},
   "source": [
    "The following code is example code provided by the classroom instructor. The citation for this code: This code example was developed by Dr. David W. McDonald for use in DATA 512, a course in the UW MS Data Science degree program. This code is provided under the Creative Commons CC-BY license. Revision 1.0 - August 15, 2023"
   ]
  },
  {
   "cell_type": "code",
   "execution_count": 3,
   "metadata": {},
   "outputs": [],
   "source": [
    "# \n",
    "# These are standard python modules\n",
    "import json, time, urllib.parse\n",
    "#\n",
    "# The 'requests' module is not a standard Python module. You will need to install this with pip/pip3 if you do not already have it\n",
    "import requests"
   ]
  },
  {
   "cell_type": "code",
   "execution_count": 4,
   "metadata": {},
   "outputs": [],
   "source": [
    "#########\n",
    "#\n",
    "#    CONSTANTS\n",
    "#\n",
    "\n",
    "#    The current LiftWing ORES API endpoint and prediction model\n",
    "#\n",
    "API_ORES_LIFTWING_ENDPOINT = \"https://api.wikimedia.org/service/lw/inference/v1/models/{model_name}:predict\"\n",
    "API_ORES_EN_QUALITY_MODEL = \"enwiki-articlequality\"\n",
    "\n",
    "#\n",
    "#    The throttling rate is a function of the Access token that you are granted when you request the token. The constants\n",
    "#    come from dissecting the token and getting the rate limits from the granted token. An example of that is below.\n",
    "#\n",
    "API_LATENCY_ASSUMED = 0.002       # Assuming roughly 2ms latency on the API and network\n",
    "API_THROTTLE_WAIT = (60.0/5000.0)-API_LATENCY_ASSUMED\n",
    "\n",
    "#    When making automated requests we should include something that is unique to the person making the request\n",
    "#    This should include an email - your UW email would be good to put in there\n",
    "#    \n",
    "#    Because all LiftWing API requests require some form of authentication, you need to provide your access token\n",
    "#    as part of the header too\n",
    "#\n",
    "REQUEST_HEADER_TEMPLATE = {\n",
    "    'User-Agent': \"<{email_address}>, University of Washington, MSDS DATA 512 - AUTUMN 2023\",\n",
    "    'Content-Type': 'application/json',\n",
    "    'Authorization': \"Bearer {access_token}\"\n",
    "}\n",
    "#\n",
    "#    This is a template for the parameters that we need to supply in the headers of an API request\n",
    "#\n",
    "REQUEST_HEADER_PARAMS_TEMPLATE = {\n",
    "    'email_address' : \"\",         # your email address should go here\n",
    "    'access_token'  : \"\"          # the access token you create will need to go here\n",
    "}\n",
    "\n",
    "#\n",
    "#    A dictionary of English Wikipedia article titles (keys) and sample revision IDs that can be used for this ORES scoring example\n",
    "#\n",
    "ARTICLE_REVISIONS = { 'Bison':1085687913 , 'Northern flicker':1086582504 , 'Red squirrel':1083787665 , 'Chinook salmon':1085406228 , 'Horseshoe bat':1060601936 }\n",
    "\n",
    "#\n",
    "#    This is a template of the data required as a payload when making a scoring request of the ORES model\n",
    "#\n",
    "ORES_REQUEST_DATA_TEMPLATE = {\n",
    "    \"lang\":        \"en\",     # required that its english - we're scoring English Wikipedia revisions\n",
    "    \"rev_id\":      \"\",       # this request requires a revision id\n",
    "    \"features\":    True\n",
    "}\n",
    "\n",
    "#\n",
    "#    These are used later - defined here so they, at least, have empty values\n",
    "#\n",
    "USERNAME = \"\"\n",
    "ACCESS_TOKEN = \"\"\n",
    "#"
   ]
  },
  {
   "cell_type": "code",
   "execution_count": 5,
   "metadata": {},
   "outputs": [],
   "source": [
    "#   Once you've done the right set up with your Wikimedia account, it should provide you with three different keys, a Client ID,\n",
    "#   a Client secret, and a Access token.\n",
    "#\n",
    "#   In this case I don't want to distribute my keys with the source of the notebook, so I wrote a key manager object that helps\n",
    "#   track all of my API keys - a username and domain name retrieves the key. The key manager hides the keys on disk separate\n",
    "#   from the code. A common code idiom to hide API keys will use code to extract the key from an OS environment variable. \n",
    "\n",
    "USERNAME = \"<Insert your username\"\n",
    "ACCESS_TOKEN = \"<Insert your own Access Code>\"\n",
    "#print(ACCESS_TOKEN)\n",
    "#\n",
    "#   You can specify these as constants for your own use - just don't distribute the notebook without removing your token\n",
    "#\n",
    "#USERNAME = \"<your_wikimedia_username>\"\n",
    "#ACCESS_TOKEN = \"<your_wikimedia_provided_access_token_its_a_really_long_string>\"\n",
    "#\n",
    "#"
   ]
  },
  {
   "cell_type": "markdown",
   "metadata": {},
   "source": [
    "Function written to request the ORES score. This was written with the help of Google Bard. It is also based off of the example code mentioned earlier."
   ]
  },
  {
   "cell_type": "code",
   "execution_count": 9,
   "metadata": {},
   "outputs": [],
   "source": [
    "#########\n",
    "#\n",
    "#    PROCEDURES/FUNCTIONS\n",
    "#\n",
    "\n",
    "def request_ores_score_per_article(article_revid = None, email_address=None, access_token=None,\n",
    "                                   endpoint_url = API_ORES_LIFTWING_ENDPOINT, \n",
    "                                   model_name = API_ORES_EN_QUALITY_MODEL, \n",
    "                                   request_data = ORES_REQUEST_DATA_TEMPLATE, \n",
    "                                   header_format = REQUEST_HEADER_TEMPLATE, \n",
    "                                   header_params = REQUEST_HEADER_PARAMS_TEMPLATE):\n",
    "    \n",
    "    #    Make sure we have an article revision id, email and token\n",
    "    #    This approach prioritizes the parameters passed in when making the call\n",
    "    if article_revid:\n",
    "        request_data['rev_id'] = article_revid\n",
    "    if email_address:\n",
    "        header_params['email_address'] = email_address\n",
    "    if access_token:\n",
    "        header_params['access_token'] = access_token\n",
    "    \n",
    "    #   Making a request requires a revision id - an email address - and the access token\n",
    "    if not request_data['rev_id']:\n",
    "        raise Exception(\"Must provide an article revision id (rev_id) to score articles\")\n",
    "    if not header_params['email_address']:\n",
    "        raise Exception(\"Must provide an 'email_address' value\")\n",
    "    if not header_params['access_token']:\n",
    "        raise Exception(\"Must provide an 'access_token' value\")\n",
    "    \n",
    "    # Create the request URL with the specified model parameter - default is a article quality score request\n",
    "    request_url = endpoint_url.format(model_name=model_name)\n",
    "    \n",
    "    # Create a compliant request header from the template and the supplied parameters\n",
    "    headers = dict()\n",
    "    for key in header_format.keys():\n",
    "        headers[str(key)] = header_format[key].format(**header_params)\n",
    "    \n",
    "    # make the request\n",
    "    try:\n",
    "        # we'll wait first, to make sure we don't exceed the limit in the situation where an exception\n",
    "        # occurs during the request processing - throttling is always a good practice with a free data\n",
    "        # source like ORES - or other community sources\n",
    "        if API_THROTTLE_WAIT > 0.0:\n",
    "            time.sleep(API_THROTTLE_WAIT)\n",
    "        #response = requests.get(request_url, headers=headers)\n",
    "        response = requests.post(request_url, headers=headers, data=json.dumps(request_data))\n",
    "        json_response = response.json()\n",
    "    except Exception as e:\n",
    "        print(e)\n",
    "        json_response = None\n",
    "    return json_response\n"
   ]
  },
  {
   "cell_type": "markdown",
   "metadata": {},
   "source": [
    "Lets test the API with just 10 rows"
   ]
  },
  {
   "cell_type": "code",
   "execution_count": null,
   "metadata": {},
   "outputs": [],
   "source": [
    "from tqdm import tqdm\n",
    "import pandas as pd"
   ]
  },
  {
   "cell_type": "code",
   "execution_count": null,
   "metadata": {},
   "outputs": [],
   "source": [
    "def get_quality_score(revision_id, article_title):\n",
    "    email = \"<put your email here>\" \n",
    "    access_token = ACCESS_TOKEN  # Replace with your token\n",
    "    \n",
    "    # Get the ORES score for the given revision_id\n",
    "    response = request_ores_score_per_article(\n",
    "        article_revid=revision_id,\n",
    "        email_address=email,\n",
    "        access_token=access_token\n",
    "    )\n",
    "    \n",
    "    # Handle the response: extract the quality score or return 'Issue' if any problem\n",
    "    try:\n",
    "        # Assuming the highest probability score indicates the quality\n",
    "        scores = response['enwiki']['scores'][str(revision_id)]['articlequality']['score']['probability']\n",
    "        return max(scores, key=scores.get)\n",
    "    except (TypeError, KeyError, AttributeError):  # handling possible issues in the response\n",
    "        return \"Issue\""
   ]
  },
  {
   "cell_type": "code",
   "execution_count": null,
   "metadata": {},
   "outputs": [],
   "source": [
    "# Sample the first 10 rows for testing\n",
    "subset_df = df_input.iloc[:10].copy()"
   ]
  },
  {
   "cell_type": "code",
   "execution_count": null,
   "metadata": {},
   "outputs": [],
   "source": [
    "# Apply the function to each row in the subset with a tqdm progress bar\n",
    "subset_df['Quality Score Pred'] = [get_quality_score(series['Revision ID'], series['Article Title']) for _, series in tqdm(subset_df.iterrows(), total=subset_df.shape[0])]"
   ]
  },
  {
   "cell_type": "code",
   "execution_count": 12,
   "metadata": {},
   "outputs": [
    {
     "name": "stderr",
     "output_type": "stream",
     "text": [
      "100%|██████████| 10/10 [00:08<00:00,  1.22it/s]\n"
     ]
    },
    {
     "data": {
      "text/html": [
       "<div>\n",
       "<style scoped>\n",
       "    .dataframe tbody tr th:only-of-type {\n",
       "        vertical-align: middle;\n",
       "    }\n",
       "\n",
       "    .dataframe tbody tr th {\n",
       "        vertical-align: top;\n",
       "    }\n",
       "\n",
       "    .dataframe thead th {\n",
       "        text-align: right;\n",
       "    }\n",
       "</style>\n",
       "<table border=\"1\" class=\"dataframe\">\n",
       "  <thead>\n",
       "    <tr style=\"text-align: right;\">\n",
       "      <th></th>\n",
       "      <th>Article Title</th>\n",
       "      <th>URL</th>\n",
       "      <th>Revision ID</th>\n",
       "      <th>Quality Score Pred</th>\n",
       "    </tr>\n",
       "  </thead>\n",
       "  <tbody>\n",
       "    <tr>\n",
       "      <th>0</th>\n",
       "      <td>Abbeville, Alabama</td>\n",
       "      <td>https://en.wikipedia.org/wiki/Abbeville,_Alabama</td>\n",
       "      <td>1171163550</td>\n",
       "      <td>C</td>\n",
       "    </tr>\n",
       "    <tr>\n",
       "      <th>1</th>\n",
       "      <td>Adamsville, Alabama</td>\n",
       "      <td>https://en.wikipedia.org/wiki/Adamsville,_Alabama</td>\n",
       "      <td>1177621427</td>\n",
       "      <td>C</td>\n",
       "    </tr>\n",
       "    <tr>\n",
       "      <th>2</th>\n",
       "      <td>Addison, Alabama</td>\n",
       "      <td>https://en.wikipedia.org/wiki/Addison,_Alabama</td>\n",
       "      <td>1168359898</td>\n",
       "      <td>C</td>\n",
       "    </tr>\n",
       "    <tr>\n",
       "      <th>3</th>\n",
       "      <td>Akron, Alabama</td>\n",
       "      <td>https://en.wikipedia.org/wiki/Akron,_Alabama</td>\n",
       "      <td>1165909508</td>\n",
       "      <td>GA</td>\n",
       "    </tr>\n",
       "    <tr>\n",
       "      <th>4</th>\n",
       "      <td>Alabaster, Alabama</td>\n",
       "      <td>https://en.wikipedia.org/wiki/Alabaster,_Alabama</td>\n",
       "      <td>1179139816</td>\n",
       "      <td>C</td>\n",
       "    </tr>\n",
       "    <tr>\n",
       "      <th>5</th>\n",
       "      <td>Albertville, Alabama</td>\n",
       "      <td>https://en.wikipedia.org/wiki/Albertville,_Ala...</td>\n",
       "      <td>1179198677</td>\n",
       "      <td>C</td>\n",
       "    </tr>\n",
       "    <tr>\n",
       "      <th>6</th>\n",
       "      <td>Alexander City, Alabama</td>\n",
       "      <td>https://en.wikipedia.org/wiki/Alexander_City,_...</td>\n",
       "      <td>1179140073</td>\n",
       "      <td>GA</td>\n",
       "    </tr>\n",
       "    <tr>\n",
       "      <th>7</th>\n",
       "      <td>Aliceville, Alabama</td>\n",
       "      <td>https://en.wikipedia.org/wiki/Aliceville,_Alabama</td>\n",
       "      <td>1167792390</td>\n",
       "      <td>GA</td>\n",
       "    </tr>\n",
       "    <tr>\n",
       "      <th>8</th>\n",
       "      <td>Allgood, Alabama</td>\n",
       "      <td>https://en.wikipedia.org/wiki/Allgood,_Alabama</td>\n",
       "      <td>1165909718</td>\n",
       "      <td>C</td>\n",
       "    </tr>\n",
       "    <tr>\n",
       "      <th>9</th>\n",
       "      <td>Altoona, Alabama</td>\n",
       "      <td>https://en.wikipedia.org/wiki/Altoona,_Alabama</td>\n",
       "      <td>1165909823</td>\n",
       "      <td>C</td>\n",
       "    </tr>\n",
       "  </tbody>\n",
       "</table>\n",
       "</div>"
      ],
      "text/plain": [
       "             Article Title                                                URL  \\\n",
       "0       Abbeville, Alabama   https://en.wikipedia.org/wiki/Abbeville,_Alabama   \n",
       "1      Adamsville, Alabama  https://en.wikipedia.org/wiki/Adamsville,_Alabama   \n",
       "2         Addison, Alabama     https://en.wikipedia.org/wiki/Addison,_Alabama   \n",
       "3           Akron, Alabama       https://en.wikipedia.org/wiki/Akron,_Alabama   \n",
       "4       Alabaster, Alabama   https://en.wikipedia.org/wiki/Alabaster,_Alabama   \n",
       "5     Albertville, Alabama  https://en.wikipedia.org/wiki/Albertville,_Ala...   \n",
       "6  Alexander City, Alabama  https://en.wikipedia.org/wiki/Alexander_City,_...   \n",
       "7      Aliceville, Alabama  https://en.wikipedia.org/wiki/Aliceville,_Alabama   \n",
       "8         Allgood, Alabama     https://en.wikipedia.org/wiki/Allgood,_Alabama   \n",
       "9         Altoona, Alabama     https://en.wikipedia.org/wiki/Altoona,_Alabama   \n",
       "\n",
       "   Revision ID Quality Score Pred  \n",
       "0   1171163550                  C  \n",
       "1   1177621427                  C  \n",
       "2   1168359898                  C  \n",
       "3   1165909508                 GA  \n",
       "4   1179139816                  C  \n",
       "5   1179198677                  C  \n",
       "6   1179140073                 GA  \n",
       "7   1167792390                 GA  \n",
       "8   1165909718                  C  \n",
       "9   1165909823                  C  "
      ]
     },
     "execution_count": 12,
     "metadata": {},
     "output_type": "execute_result"
    }
   ],
   "source": [
    "subset_df"
   ]
  },
  {
   "cell_type": "code",
   "execution_count": null,
   "metadata": {},
   "outputs": [],
   "source": [
    "# Copy df_input to a new DataFrame\n",
    "quality_scores_df = df_input.copy()"
   ]
  },
  {
   "cell_type": "code",
   "execution_count": null,
   "metadata": {},
   "outputs": [],
   "source": [
    "# Apply the function to each row in the quality_scores_df with a tqdm progress bar\n",
    "quality_scores_df['Quality Score Pred'] = [get_quality_score(series['Revision ID'], series['Article Title']) for _, series in tqdm(quality_scores_df.iterrows(), total=quality_scores_df.shape[0])]"
   ]
  },
  {
   "cell_type": "code",
   "execution_count": 13,
   "metadata": {},
   "outputs": [
    {
     "name": "stderr",
     "output_type": "stream",
     "text": [
      "100%|██████████| 21484/21484 [3:02:32<00:00,  1.96it/s]   \n"
     ]
    },
    {
     "data": {
      "text/html": [
       "<div>\n",
       "<style scoped>\n",
       "    .dataframe tbody tr th:only-of-type {\n",
       "        vertical-align: middle;\n",
       "    }\n",
       "\n",
       "    .dataframe tbody tr th {\n",
       "        vertical-align: top;\n",
       "    }\n",
       "\n",
       "    .dataframe thead th {\n",
       "        text-align: right;\n",
       "    }\n",
       "</style>\n",
       "<table border=\"1\" class=\"dataframe\">\n",
       "  <thead>\n",
       "    <tr style=\"text-align: right;\">\n",
       "      <th></th>\n",
       "      <th>Article Title</th>\n",
       "      <th>URL</th>\n",
       "      <th>Revision ID</th>\n",
       "      <th>Quality Score Pred</th>\n",
       "    </tr>\n",
       "  </thead>\n",
       "  <tbody>\n",
       "    <tr>\n",
       "      <th>0</th>\n",
       "      <td>Abbeville, Alabama</td>\n",
       "      <td>https://en.wikipedia.org/wiki/Abbeville,_Alabama</td>\n",
       "      <td>1171163550</td>\n",
       "      <td>C</td>\n",
       "    </tr>\n",
       "    <tr>\n",
       "      <th>1</th>\n",
       "      <td>Adamsville, Alabama</td>\n",
       "      <td>https://en.wikipedia.org/wiki/Adamsville,_Alabama</td>\n",
       "      <td>1177621427</td>\n",
       "      <td>C</td>\n",
       "    </tr>\n",
       "    <tr>\n",
       "      <th>2</th>\n",
       "      <td>Addison, Alabama</td>\n",
       "      <td>https://en.wikipedia.org/wiki/Addison,_Alabama</td>\n",
       "      <td>1168359898</td>\n",
       "      <td>C</td>\n",
       "    </tr>\n",
       "    <tr>\n",
       "      <th>3</th>\n",
       "      <td>Akron, Alabama</td>\n",
       "      <td>https://en.wikipedia.org/wiki/Akron,_Alabama</td>\n",
       "      <td>1165909508</td>\n",
       "      <td>GA</td>\n",
       "    </tr>\n",
       "    <tr>\n",
       "      <th>4</th>\n",
       "      <td>Alabaster, Alabama</td>\n",
       "      <td>https://en.wikipedia.org/wiki/Alabaster,_Alabama</td>\n",
       "      <td>1179139816</td>\n",
       "      <td>C</td>\n",
       "    </tr>\n",
       "    <tr>\n",
       "      <th>...</th>\n",
       "      <td>...</td>\n",
       "      <td>...</td>\n",
       "      <td>...</td>\n",
       "      <td>...</td>\n",
       "    </tr>\n",
       "    <tr>\n",
       "      <th>21479</th>\n",
       "      <td>Wamsutter, Wyoming</td>\n",
       "      <td>https://en.wikipedia.org/wiki/Wamsutter,_Wyoming</td>\n",
       "      <td>1169591845</td>\n",
       "      <td>Issue</td>\n",
       "    </tr>\n",
       "    <tr>\n",
       "      <th>21480</th>\n",
       "      <td>Wheatland, Wyoming</td>\n",
       "      <td>https://en.wikipedia.org/wiki/Wheatland,_Wyoming</td>\n",
       "      <td>1176370621</td>\n",
       "      <td>Issue</td>\n",
       "    </tr>\n",
       "    <tr>\n",
       "      <th>21481</th>\n",
       "      <td>Worland, Wyoming</td>\n",
       "      <td>https://en.wikipedia.org/wiki/Worland,_Wyoming</td>\n",
       "      <td>1166347917</td>\n",
       "      <td>Issue</td>\n",
       "    </tr>\n",
       "    <tr>\n",
       "      <th>21482</th>\n",
       "      <td>Wright, Wyoming</td>\n",
       "      <td>https://en.wikipedia.org/wiki/Wright,_Wyoming</td>\n",
       "      <td>1166334449</td>\n",
       "      <td>Issue</td>\n",
       "    </tr>\n",
       "    <tr>\n",
       "      <th>21483</th>\n",
       "      <td>Yoder, Wyoming</td>\n",
       "      <td>https://en.wikipedia.org/wiki/Yoder,_Wyoming</td>\n",
       "      <td>1171182284</td>\n",
       "      <td>Issue</td>\n",
       "    </tr>\n",
       "  </tbody>\n",
       "</table>\n",
       "<p>21484 rows × 4 columns</p>\n",
       "</div>"
      ],
      "text/plain": [
       "             Article Title                                                URL  \\\n",
       "0       Abbeville, Alabama   https://en.wikipedia.org/wiki/Abbeville,_Alabama   \n",
       "1      Adamsville, Alabama  https://en.wikipedia.org/wiki/Adamsville,_Alabama   \n",
       "2         Addison, Alabama     https://en.wikipedia.org/wiki/Addison,_Alabama   \n",
       "3           Akron, Alabama       https://en.wikipedia.org/wiki/Akron,_Alabama   \n",
       "4       Alabaster, Alabama   https://en.wikipedia.org/wiki/Alabaster,_Alabama   \n",
       "...                    ...                                                ...   \n",
       "21479   Wamsutter, Wyoming   https://en.wikipedia.org/wiki/Wamsutter,_Wyoming   \n",
       "21480   Wheatland, Wyoming   https://en.wikipedia.org/wiki/Wheatland,_Wyoming   \n",
       "21481     Worland, Wyoming     https://en.wikipedia.org/wiki/Worland,_Wyoming   \n",
       "21482      Wright, Wyoming      https://en.wikipedia.org/wiki/Wright,_Wyoming   \n",
       "21483       Yoder, Wyoming       https://en.wikipedia.org/wiki/Yoder,_Wyoming   \n",
       "\n",
       "       Revision ID Quality Score Pred  \n",
       "0       1171163550                  C  \n",
       "1       1177621427                  C  \n",
       "2       1168359898                  C  \n",
       "3       1165909508                 GA  \n",
       "4       1179139816                  C  \n",
       "...            ...                ...  \n",
       "21479   1169591845              Issue  \n",
       "21480   1176370621              Issue  \n",
       "21481   1166347917              Issue  \n",
       "21482   1166334449              Issue  \n",
       "21483   1171182284              Issue  \n",
       "\n",
       "[21484 rows x 4 columns]"
      ]
     },
     "execution_count": 13,
     "metadata": {},
     "output_type": "execute_result"
    }
   ],
   "source": [
    "quality_scores_df"
   ]
  },
  {
   "cell_type": "markdown",
   "metadata": {},
   "source": [
    "Let us look at the results and see how many rows we had issues with."
   ]
  },
  {
   "cell_type": "code",
   "execution_count": 14,
   "metadata": {},
   "outputs": [
    {
     "name": "stdout",
     "output_type": "stream",
     "text": [
      "There are 5136 rows with 'Issue' as their Quality Score Pred.\n"
     ]
    }
   ],
   "source": [
    "issue_count = (quality_scores_df['Quality Score Pred'] == 'Issue').sum()\n",
    "print(f\"There are {issue_count} rows with 'Issue' as their Quality Score Pred.\")\n"
   ]
  },
  {
   "cell_type": "markdown",
   "metadata": {},
   "source": [
    "We will create two dataframes, one with the no issue rows and one with the issue rows. We will also create csv's out of those two dataframes."
   ]
  },
  {
   "cell_type": "code",
   "execution_count": null,
   "metadata": {},
   "outputs": [],
   "source": [
    "# Filter rows without issue\n",
    "no_issue_df = quality_scores_df[quality_scores_df['Quality Score Pred'] != 'Issue']"
   ]
  },
  {
   "cell_type": "code",
   "execution_count": 15,
   "metadata": {},
   "outputs": [],
   "source": [
    "# Filter rows with issue\n",
    "issue_df = quality_scores_df[quality_scores_df['Quality Score Pred'] == 'Issue']"
   ]
  },
  {
   "cell_type": "code",
   "execution_count": 16,
   "metadata": {},
   "outputs": [],
   "source": [
    "# Save to CSV files\n",
    "issue_df.to_csv('issue_quality_scores.csv', index=False)"
   ]
  },
  {
   "cell_type": "code",
   "execution_count": null,
   "metadata": {},
   "outputs": [],
   "source": [
    "no_issue_df.to_csv('quality_scores_pred.csv', index=False)"
   ]
  }
 ],
 "metadata": {
  "kernelspec": {
   "display_name": "Python 3",
   "language": "python",
   "name": "python3"
  },
  "language_info": {
   "codemirror_mode": {
    "name": "ipython",
    "version": 3
   },
   "file_extension": ".py",
   "mimetype": "text/x-python",
   "name": "python",
   "nbconvert_exporter": "python",
   "pygments_lexer": "ipython3",
   "version": "3.8.5"
  }
 },
 "nbformat": 4,
 "nbformat_minor": 4
}
